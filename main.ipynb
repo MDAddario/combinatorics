{
 "cells": [
  {
   "cell_type": "code",
   "execution_count": 1,
   "metadata": {},
   "outputs": [],
   "source": [
    "# This would be impossible in any other language\n",
    "from typing import List, Iterable, Any\n",
    "from itertools import product, combinations_with_replacement"
   ]
  },
  {
   "cell_type": "code",
   "execution_count": 2,
   "metadata": {},
   "outputs": [],
   "source": [
    "def n_iterator(iterables: List[Iterable[Any]], length: int, use_product: bool = True) -> Iterable[Any]:\n",
    "    \"\"\"\n",
    "    Create the appropriate combinatorial iterator over a collection of iterables.\n",
    "    The iterator will return a total of `length` items.\n",
    "    The length of `iterables` can be `length`, in which case each iterable is used for one value.\n",
    "    The length of `iterables` can be 1, in which case the same iterable is use for all values.\n",
    "    If the length of `iterables` is 1, can specify whether to use the catesian product of\n",
    "    iterables, or to take combinations with replacement.\n",
    "    \n",
    "    Args:\n",
    "        iterables:   List of iterables, length either 1 or `length`.\n",
    "        length:      Desired number of outputs from return iterator.\n",
    "        use_product: If `len(iterables) == 1`, use cartesian product.\n",
    "    \n",
    "    Returns:\n",
    "        Iterator with `length` return values.\n",
    "    \"\"\"\n",
    "    \n",
    "    # Ensure `len(iterables)` is either 1 or `length`\n",
    "    if not (len(iterables) == 1 or len(iterables) == length):\n",
    "        raise ValueError(f\"Number of iterables must be either one (1) or `length` ({length}).\")\n",
    "    \n",
    "    # Can only use combinations_w_r if `len(iterables) == 1`\n",
    "    if not use_product and len(iterables) != 1:\n",
    "        raise ValueError(\"Cannot set `use_product` to false unless only one iterable is passed.\")\n",
    "    \n",
    "    # Select the appropriate combinatorial iterator\n",
    "    if len(iterables) > 1:\n",
    "        return product(*iterables)\n",
    "    if use_product:\n",
    "        return product(iterables[0], repeat=length)\n",
    "    return combinations_with_replacement(iterables[0], r=length)"
   ]
  },
  {
   "cell_type": "code",
   "execution_count": 3,
   "metadata": {},
   "outputs": [],
   "source": [
    "def one_plus_n_generator(one: Iterable[Any], iterables: List[Iterable[Any]], length: int, use_product: bool = True) -> Iterable[Any]:\n",
    "    \"\"\"\n",
    "    Create the appropriate combinatorial iterator over a collection of 1+n iterables.\n",
    "    View n_iterator.__doc__ for a description of the parameters `iterables`, `length`, `use_product`.\n",
    "    The cartesian product is taken between the one and n iterables.\n",
    "    Enumerate is used on all iterables to ensure \n",
    "    \n",
    "    Args:\n",
    "        one:         Single iterable.\n",
    "        iterables:   List of iterables, length either 1 or `length`.\n",
    "        length:      Desired number of outputs from return iterator.\n",
    "        use_product: If `len(iterables) == 1`, use cartesian product.\n",
    "    \n",
    "    Returns:\n",
    "        Generator yielding one_id, one_val, n_ids, n_vals\n",
    "    \"\"\"\n",
    "    \n",
    "    # Create enumeraters for all iteraters\n",
    "    enum_one  = enumerate(one)\n",
    "    enum_iter = [enumerate(iterable) for iterable in iterables]\n",
    "    \n",
    "    # Retrieve the n-iterator\n",
    "    enum_n_iter = n_iterator(enum_iter, length, use_product)\n",
    "    \n",
    "    # Run cartesian product between the 1 and n iterables\n",
    "    for ((one_id, one_val), n_ids_vals) in  product(enum_one, enum_n_iter):\n",
    "        \n",
    "        # Yield indices and values for 1 + n iterables\n",
    "        n_ids  = [n[0] for n in n_ids_vals]\n",
    "        n_vals = [n[1] for n in n_ids_vals]\n",
    "        yield one_id, one_val, n_ids, n_vals"
   ]
  },
  {
   "cell_type": "code",
   "execution_count": 4,
   "metadata": {},
   "outputs": [],
   "source": [
    "# Define some sample lists\n",
    "r = ['r0', 'r1']\n",
    "a = ['a0', 'a1']\n",
    "b = ['b0', 'b1']"
   ]
  },
  {
   "cell_type": "code",
   "execution_count": 5,
   "metadata": {},
   "outputs": [
    {
     "name": "stdout",
     "output_type": "stream",
     "text": [
      "0 [0, 0] r0 ['a0', 'b0']\n",
      "0 [0, 1] r0 ['a0', 'b1']\n",
      "0 [1, 0] r0 ['a1', 'b0']\n",
      "0 [1, 1] r0 ['a1', 'b1']\n",
      "1 [0, 0] r1 ['a0', 'b0']\n",
      "1 [0, 1] r1 ['a0', 'b1']\n",
      "1 [1, 0] r1 ['a1', 'b0']\n",
      "1 [1, 1] r1 ['a1', 'b1']\n"
     ]
    }
   ],
   "source": [
    "# Case A)\n",
    "for one_id, one_val, n_ids, n_vals in one_plus_n_generator(r, [a, b], length=2):\n",
    "    print(one_id, n_ids, one_val, n_vals)"
   ]
  },
  {
   "cell_type": "code",
   "execution_count": 6,
   "metadata": {},
   "outputs": [
    {
     "name": "stdout",
     "output_type": "stream",
     "text": [
      "0 [0, 0] r0 ['a0', 'a0']\n",
      "0 [0, 1] r0 ['a0', 'a1']\n",
      "0 [1, 0] r0 ['a1', 'a0']\n",
      "0 [1, 1] r0 ['a1', 'a1']\n",
      "1 [0, 0] r1 ['a0', 'a0']\n",
      "1 [0, 1] r1 ['a0', 'a1']\n",
      "1 [1, 0] r1 ['a1', 'a0']\n",
      "1 [1, 1] r1 ['a1', 'a1']\n"
     ]
    }
   ],
   "source": [
    "# Case B)\n",
    "for one_id, one_val, n_ids, n_vals in one_plus_n_generator(r, [a], length=2, use_product=True):\n",
    "    print(one_id, n_ids, one_val, n_vals)"
   ]
  },
  {
   "cell_type": "code",
   "execution_count": 7,
   "metadata": {},
   "outputs": [
    {
     "name": "stdout",
     "output_type": "stream",
     "text": [
      "0 [0, 0] r0 ['a0', 'a0']\n",
      "0 [0, 1] r0 ['a0', 'a1']\n",
      "0 [1, 1] r0 ['a1', 'a1']\n",
      "1 [0, 0] r1 ['a0', 'a0']\n",
      "1 [0, 1] r1 ['a0', 'a1']\n",
      "1 [1, 1] r1 ['a1', 'a1']\n"
     ]
    }
   ],
   "source": [
    "# Case C)\n",
    "for one_id, one_val, n_ids, n_vals in one_plus_n_generator(r, [a], length=2, use_product=False):\n",
    "    print(one_id, n_ids, one_val, n_vals)"
   ]
  }
 ],
 "metadata": {
  "kernelspec": {
   "display_name": "Python 3",
   "language": "python",
   "name": "python3"
  },
  "language_info": {
   "codemirror_mode": {
    "name": "ipython",
    "version": 3
   },
   "file_extension": ".py",
   "mimetype": "text/x-python",
   "name": "python",
   "nbconvert_exporter": "python",
   "pygments_lexer": "ipython3",
   "version": "3.7.7"
  }
 },
 "nbformat": 4,
 "nbformat_minor": 4
}
